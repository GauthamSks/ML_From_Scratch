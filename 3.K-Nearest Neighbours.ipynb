{
 "cells": [
  {
   "cell_type": "markdown",
   "metadata": {},
   "source": [
    "# <div align='center'>K-Nearest Neighbors</div>"
   ]
  },
  {
   "cell_type": "code",
   "execution_count": 1,
   "metadata": {},
   "outputs": [],
   "source": [
    "import numpy as np\n",
    "import pandas as pd\n",
    "import matplotlib.pyplot as plt\n",
    "from sklearn.datasets import make_blobs"
   ]
  },
  {
   "cell_type": "code",
   "execution_count": 2,
   "metadata": {},
   "outputs": [],
   "source": [
    "class K_Nearest_Neighbors():\n",
    "    \n",
    "    def __init__(self,X,y,k,d_type):\n",
    "        \n",
    "        self.X = X\n",
    "        self.y = y.reshape(-1,1)\n",
    "        self.K = k\n",
    "        self.d_type = d_type\n",
    "        \n",
    "    def distance_Metric(self,test_data):\n",
    "        \n",
    "        distance = 0\n",
    "        \n",
    "        if(self.d_type == 'euclidean_dist'):\n",
    "            \n",
    "            # Alternate way to implement: np.linalg.norm((self.X - test_data), axis=1).reshape(-1,1)\n",
    "            distance = np.sqrt(np.sum(np.square(self.X - test_data), axis=1)).reshape(-1,1)\n",
    "            \n",
    "        elif(self.d_type == 'manhattan_dist'):\n",
    "            \n",
    "            distance = np.sum(np.abs(self.X - test_data), axis=1).reshape(-1,1)\n",
    "        \n",
    "        return distance\n",
    "        \n",
    "    def get_k_neighbors(self,test_data):\n",
    "        \n",
    "        # Calculate the distance\n",
    "        distance = self.distance_Metric(test_data)\n",
    "            \n",
    "        # Horizontally stack the distance and self.y array\n",
    "        dataframe = np.hstack((distance,self.y))\n",
    "            \n",
    "        # Convert to a pandas dataframe \n",
    "        dataframe = pd.DataFrame(dataframe,columns=[\"Distance\",\"y_hat\"])\n",
    "            \n",
    "        # Sort the dataframe based on distance\n",
    "        dataframe = dataframe.sort_values('Distance')\n",
    "            \n",
    "        # get the k closest neighbors\n",
    "        k_neighbors = dataframe.head(self.K)\n",
    "            \n",
    "        return k_neighbors\n",
    "            \n",
    "    def predict(self,X_test):\n",
    "        \n",
    "        # Find the k closest neighbors\n",
    "        k_neighbors = self.get_k_neighbors(X_test)\n",
    "        \n",
    "        return k_neighbors[\"y_hat\"].mode().tolist()[0]\n",
    "    \n",
    "    def calc_Accuracy(self,X_test,y_test):\n",
    "        \n",
    "        n_samples = y_test.shape[0]\n",
    "        \n",
    "        y_test = y_test.reshape(-1,1)\n",
    "        y_hat = []\n",
    "        \n",
    "        for row in X_test:\n",
    "    \n",
    "            test_data = np.array([row]*self.X.shape[0]).reshape(self.X.shape)\n",
    "            y_hat.append(self.predict(test_data))\n",
    "            \n",
    "        y_hat = np.array(y_hat).reshape(-1,1)\n",
    "        \n",
    "        accuracy = np.sum(y_hat == y_test)/n_samples\n",
    "        \n",
    "        return accuracy"
   ]
  },
  {
   "cell_type": "code",
   "execution_count": 7,
   "metadata": {},
   "outputs": [
    {
     "data": {
      "text/plain": [
       "<matplotlib.collections.PathCollection at 0x7fc8c1611990>"
      ]
     },
     "execution_count": 7,
     "metadata": {},
     "output_type": "execute_result"
    },
    {
     "data": {
      "image/png": "[encoded data removed]",
      "text/plain": [
       "<Figure size 432x288 with 1 Axes>"
      ]
     },
     "metadata": {
      "needs_background": "light"
     },
     "output_type": "display_data"
    }
   ],
   "source": [
    "# Dataset from sklearn\n",
    "Data_X, Data_y = make_blobs(n_samples=100,centers=3, n_features=2,cluster_std=0.4,random_state=0)\n",
    "\n",
    "split_ratio = 75\n",
    "\n",
    "# Training Set\n",
    "X_train, y_train = Data_X[:split_ratio,:],Data_y[:split_ratio]\n",
    "\n",
    "# Testing Set\n",
    "X_test, y_test = Data_X[split_ratio:,:],Data_y[split_ratio:]\n",
    "\n",
    "\n",
    "plt.scatter(Data_X[:,0],Data_X[:,1],c=Data_y)"
   ]
  },
  {
   "cell_type": "code",
   "execution_count": 8,
   "metadata": {},
   "outputs": [
    {
     "data": {
      "text/plain": [
       "1.0"
      ]
     },
     "execution_count": 8,
     "metadata": {},
     "output_type": "execute_result"
    }
   ],
   "source": [
    "clf = K_Nearest_Neighbors(X_train,y_train,5,'euclidean_dist')\n",
    "clf.calc_Accuracy(X_test,y_test)"
   ]
  }
 ],
 "metadata": {
  "kernelspec": {
   "display_name": "Python 3",
   "language": "python",
   "name": "python3"
  },
  "language_info": {
   "codemirror_mode": {
    "name": "ipython",
    "version": 3
   },
   "file_extension": ".py",
   "mimetype": "text/x-python",
   "name": "python",
   "nbconvert_exporter": "python",
   "pygments_lexer": "ipython3",
   "version": "3.7.5"
  }
 },
 "nbformat": 4,
 "nbformat_minor": 4
}
